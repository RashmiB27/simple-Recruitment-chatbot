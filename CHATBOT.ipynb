{
 "cells": [
  {
   "cell_type": "markdown",
   "id": "bd286fef-8426-4af2-9685-dd911957d0d4",
   "metadata": {},
   "source": [
    "# Recruting Chatbot"
   ]
  },
  {
   "cell_type": "code",
   "execution_count": 139,
   "id": "7266d2d2-7062-4b60-b1b5-0f29081f20e6",
   "metadata": {},
   "outputs": [
    {
     "name": "stdout",
     "output_type": "stream",
     "text": [
      "Hello and Welcome to Awesome Jobs\n",
      "We will together find a better job for you.\n"
     ]
    },
    {
     "name": "stdin",
     "output_type": "stream",
     "text": [
      "Tell me , what is your full name ? pearl s\n",
      "Which city are you from ? \n",
      "Great, Whats you gender ? \n",
      " 1 . Male \n",
      " 2 . Female \n",
      " 2\n",
      "how old are you ? 21\n"
     ]
    },
    {
     "name": "stdout",
     "output_type": "stream",
     "text": [
      "This is exciting.\n",
      "I already have found more than 300 jobs that you might like.\n",
      "What kind of jobs do you like?\n",
      "1 : software enginner\n",
      "2 : entc enginner\n",
      "3 : marketing manager\n",
      "4 : data analyst\n",
      "5 : project manager\n",
      "6 : hardware technician\n"
     ]
    },
    {
     "name": "stdin",
     "output_type": "stream",
     "text": [
      " 5\n"
     ]
    },
    {
     "name": "stdout",
     "output_type": "stream",
     "text": [
      "How much monthly salary do you expect?\n",
      "1 : 5-10\n",
      "2 : 4-7\n",
      "3 : 4-9\n",
      "4 : 5-8\n",
      "5 : 3-8\n",
      "6 : 8-15\n"
     ]
    },
    {
     "name": "stdin",
     "output_type": "stream",
     "text": [
      " 1\n"
     ]
    },
    {
     "name": "stdout",
     "output_type": "stream",
     "text": [
      "Great. Here’s a list of great jobs you might like.\n",
      "If you like them, select one to apply for it.\n",
      "1 ] role :  project manager , salary :  5 - 8 , company :  google\n",
      "2 ] role :  project manager , salary :  3 - 8 , company :  apple\n",
      "3 ] role :  project manager , salary :  8 - 14 , company :  dell\n",
      "4 ] role :  project manager , salary :  8 -11 , company :  hp\n"
     ]
    },
    {
     "name": "stdin",
     "output_type": "stream",
     "text": [
      " 3\n"
     ]
    },
    {
     "name": "stdout",
     "output_type": "stream",
     "text": [
      "your application has sent successfully\n",
      "^^^^^^Thank You^^^^^^\n"
     ]
    }
   ],
   "source": [
    "print(\"Hello and Welcome to Awesome Jobs\")\n",
    "print(\"We will together find a better job for you.\")\n",
    "name = input(\"Tell me , what is your full name ?\")\n",
    "while(len(name.split(\" \"))<2):\n",
    "    i = input(\"Please giva full name. e.g..Isaac Newton\")\n",
    "    if len(i.split(\" \"))>=2 :\n",
    "        break\n",
    "city = input(\"Which city are you from ?\")\n",
    "gender = input(\"Great, Whats you gender ? \\n 1 . Male \\n 2 . Female \\n\")\n",
    "age = input(\"how old are you ?\")\n",
    "print(\"This is exciting.\")\n",
    "print(\"I already have found more than 300 jobs that you might like.\")\n",
    "print(\"What kind of jobs do you like?\")\n",
    "for i in jobs:\n",
    "    print(i,\":\",jobs[int(i)])\n",
    "job = int(input())\n",
    "print(\"How much monthly salary do you expect?\")\n",
    "for b in salary:\n",
    "    print(b,\":\",salary[int(b)])\n",
    "esalary = input()\n",
    "print(\"Great. Here’s a list of great jobs you might like.\")\n",
    "print(\"If you like them, select one to apply for it.\")\n",
    "if(job==1):\n",
    "    for i in software_engineer:\n",
    "        print(i, \"]\",\"role : \",software_engineer[i][\"name\"],\",\",\"salary : \",software_engineer[i][\"salaray\"],\",\",\"company : \",software_engineer[i][\"company\"])\n",
    "    mjobs = int(input())\n",
    "    jb = \"\\n\"+\"-------------\"+\"\\n\"+\"name : \"+ name +\"\\n\"+\"city : \"+city+\"\\n\"+ \"role : \"+software_engineer[mjobs][\"name\"]+\"\\n\"+\"salary : \"+software_engineer[mjobs][\"salaray\"]+\"\\n\"+\"company : \"+software_engineer[mjobs][\"company\"]+\"\\n\"+\"------------\"\n",
    "    fd = open(\"jobinfo.txt\",'a')\n",
    "    fd.write(jb)\n",
    "    fd.close()\n",
    "elif(job==2):\n",
    "    for i in entc_engineer:\n",
    "        print(i,\"]\",\"role : \",entc_engineer[i][\"name\"],\",\",\"salary : \",entc_engineer[i][\"salaray\"],\",\",\"company : \",entc_engineer[i][\"company\"])\n",
    "    mjobe = int(input())\n",
    "    jb = \"\\n\"+\"-------------\"+\"\\n\"+\"name : \"+ name +\"\\n\"+\"city : \"+city+\"\\n\"+ \"role : \"+entc_engineer[mjobe][\"name\"]+\"\\n\"+\"salary : \"+entc_engineer[mjobe][\"salaray\"]+\"\\n\"+\"company : \"+entc_engineer[mjobe][\"company\"]+\"\\n\"+\"------------\"\n",
    "    fd = open(\"jobinfo.txt\",'a')\n",
    "    fd.write(jb)\n",
    "    fd.close()\n",
    "elif(job==3):\n",
    "    for i in marketing_manager:\n",
    "        print(i,\"]\",\"role : \",marketing_manager[i][\"name\"],\",\",\"salary : \",marketing_manager[i][\"salaray\"],\",\",\"company : \",marketing_manager[i][\"company\"])\n",
    "    mjobm = int(input())\n",
    "    jb = \"\\n\"+\"-------------\"+\"\\n\"+\"name : \"+ name +\"\\n\"+\"city : \"+city+\"\\n\"+ \"role : \"+marketing_manager[mjobm][\"name\"]+\"\\n\"+\"salary : \"+marketing_manager[mjobm][\"salaray\"]+\"\\n\"+\"company : \"+marketing_manager[mjobm][\"company\"]+\"\\n\"+\"------------\"\n",
    "    fd = open(\"jobinfo.txt\",'a')\n",
    "    fd.write(jb)\n",
    "    fd.close()\n",
    "elif(job==4):\n",
    "    for i in data_analyst:\n",
    "        print(i,\"]\",\"role : \",data_analyst[i][\"name\"],\",\",\"salary : \",data_analyst[i][\"salaray\"],\",\",\"company : \",data_analyst[i][\"company\"])\n",
    "    mjobd = int(input())\n",
    "    jb =\"\\n\"+\"-------------\"+\"\\n\"+ \"name : \"+ name +\"\\n\"+\"city : \"+city+\"\\n\"+ \"role : \"+data_analyst[mjobd][\"name\"]+\"\\n\"+\"salary : \"+data_analyst[mjobd][\"salaray\"]+\"\\n\"+\"company : \"+data_analyst[mjobd][\"company\"]+\"\\n\"+\"------------\"\n",
    "    fd = open(\"jobinfo.txt\",'a')\n",
    "    fd.write(jb)\n",
    "    fd.close()\n",
    "elif(job==5):\n",
    "    for i in project_manager:\n",
    "        print(i,\"]\",\"role : \",project_manager[i][\"name\"],\",\",\"salary : \",project_manager[i][\"salaray\"],\",\",\"company : \",project_manager[i][\"company\"])\n",
    "    mjobp = int(input())\n",
    "    jb = \"\\n\"+\"-------------\"+\"\\n\"+\"name : \"+ name +\"\\n\"+\"city : \"+city+\"\\n\"+ \"role : \"+project_manager[mjobp][\"name\"]+\"\\n\"+\"salary : \"+project_manager[mjobp][\"salaray\"]+\"\\n\"+\"company : \"+project_manager[mjobp][\"company\"]+\"\\n\"+\"------------\"\n",
    "    fd = open(\"jobinfo.txt\",'a')\n",
    "    fd.write(jb)\n",
    "    fd.close()\n",
    "else:\n",
    "    for i in hardware_technician:\n",
    "        print(i,\"]\",\"role : \",hardware_technician[i][\"name\"],\",\",\"salary : \",hardware_technician[i][\"salaray\"],\",\",\"company : \",hardware_technician[i][\"company\"])\n",
    "    mjobh = int(input())\n",
    "    jb = \"\\n\"+\"-------------\"+\"\\n\"+\"name : \"+ name +\"\\n\"+\"city : \"+city+\"\\n\"+ \"role : \"+hardware_technician[mjobh][\"name\"]+\"\\n\"+\"salary : \"+hardware_technician[mjobh][\"salaray\"]+\"\\n\"+\"company : \"+hardware_technician[mjobh][\"company\"]+\"\\n\"+\"------------\"\n",
    "    fd = open(\"jobinfo.txt\",'a')\n",
    "    fd.write(jb)\n",
    "    fd.close()\n",
    "\n",
    "print(\"your application has sent successfully\")\n",
    "print(\"^^^^^^Thank You^^^^^^\")"
   ]
  },
  {
   "cell_type": "code",
   "execution_count": 128,
   "id": "208e41f6-f605-42b5-abc3-fac82f3f9936",
   "metadata": {},
   "outputs": [],
   "source": [
    "jobs = {1:\"software enginner\",\n",
    "        2:\"entc enginner\",\n",
    "        3:\"marketing manager\",\n",
    "        4:\"data analyst\",\n",
    "        5:\"project manager\",\n",
    "        6:\"hardware technician\"}"
   ]
  },
  {
   "cell_type": "code",
   "execution_count": 129,
   "id": "f82a0ae4-e7cf-4c08-bc77-890cfb11b298",
   "metadata": {},
   "outputs": [],
   "source": [
    "software_engineer = {1:{\"name\" : \"software enginner\", \"salaray\" :\"5 - 8\", \"company\" : \"google\" },\n",
    "                     2:{\"name\" : \"software enginner\", \"salaray\" :\"3 - 8\", \"company\" : \"apple\"},\n",
    "                     3:{\"name\" : \"software enginner\", \"salaray\" :\"8 - 14\", \"company\" : \"dell\"},\n",
    "                     4:{\"name\" : \"software enginner\", \"salaray\" :\"8 -11\",  \"company\" : \"hp\"}}\n",
    "entc_engineer = {1:{\"name\" : \"entc enginner\", \"salaray\" :\"5 - 8\", \"company\" : \"google\" },\n",
    "                        2:{\"name\" : \"entc enginner\", \"salaray\" :\"3 - 8\", \"company\" : \"apple\"},\n",
    "                        3:{\"name\": \"entc enginner\", \"salaray\" :\"8 - 14\", \"company\" : \"dell\"},\n",
    "                        4:{\"name\" : \"entc enginner\", \"salaray\" :\"8 -11\", \"company\" : \"hp\"}}\n",
    "marketing_manager = {1:{\"name\" : \"marketing manager\", \"salaray\" :\"5 - 8\", \"company\" : \"google\" },\n",
    "                        2:{\"name\" : \"marketing manager\", \"salaray\" :\"3 - 8\", \"company\" : \"apple\"},\n",
    "                        3:{\"name\" : \"maeketing manager\", \"salaray\" :\"8 - 14\", \"company\" : \"dell\"},\n",
    "                        4:{\"name\" : \"marketing manager\", \"salaray\" :\"8 -11\", \"company\" : \"hp\"}}\n",
    "data_analyst = {1:{\"name\" : \"data analyst\", \"salaray\" :\"5 - 8\", \"company\" : \"google\" },\n",
    "                        2:{\"name\" : \"data analyst\", \"salaray\" :\"3 - 8\", \"company\" : \"apple\"},\n",
    "                        3:{\"name\" : \"data analyst\", \"salaray\" :\"8 - 14\", \"company\" : \"dell\"},\n",
    "                        4:{\"name\" : \"data analyst\", \"salaray\" :\"8 -11\", \"company\" : \"hp\"}}\n",
    "project_manager = {1:{\"name\" : \"project manager\", \"salaray\" :\"5 - 8\", \"company\" : \"google\" },\n",
    "                   2:{\"name\" : \"project manager\", \"salaray\" :\"3 - 8\", \"company\" : \"apple\"},\n",
    "                   3:{\"name\" : \"project manager\", \"salaray\" :\"8 - 14\", \"company\" : \"dell\"},\n",
    "                   4:{\"name\" : \"project manager\", \"salaray\" :\"8 -11\", \"company\" : \"hp\"}}\n",
    "hardware_technician = {1:{\"name\" : \"hardware technician\", \"salaray\" :\"5 - 8\", \"company\" : \"google\" },\n",
    "                       2:{\"name\" : \"hardware technician\", \"salaray\" :\"3 - 8\", \"company\" : \"apple\"},\n",
    "                       3:{\"name\" : \"hardware techician\", \"salaray\" :\"8 - 14\", \"company\" : \"dell\"},\n",
    "                       4:{\"name\" : \"hardware technician\", \"salaray\" :\"8 -11\", \"company\" : \"hp\"}}"
   ]
  },
  {
   "cell_type": "code",
   "execution_count": 130,
   "id": "26154f99-2d86-47cd-a1c0-e4eb3108f0e6",
   "metadata": {},
   "outputs": [],
   "source": [
    "salary = {1: \"5-10\",\n",
    "          2: \"4-7\",\n",
    "          3: \"4-9\",\n",
    "          4: \"5-8\",\n",
    "          5: \"3-8\",\n",
    "          6: \"8-15\"}"
   ]
  }
 ],
 "metadata": {
  "kernelspec": {
   "display_name": "Python 3",
   "language": "python",
   "name": "python3"
  },
  "language_info": {
   "codemirror_mode": {
    "name": "ipython",
    "version": 3
   },
   "file_extension": ".py",
   "mimetype": "text/x-python",
   "name": "python",
   "nbconvert_exporter": "python",
   "pygments_lexer": "ipython3",
   "version": "3.8.8"
  }
 },
 "nbformat": 4,
 "nbformat_minor": 5
}
